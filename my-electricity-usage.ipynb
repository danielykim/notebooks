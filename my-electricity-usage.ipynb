{
 "cells": [
  {
   "cell_type": "markdown",
   "metadata": {},
   "source": [
    "Let's get monthly average temperatures in Seoul (서울), South Korea.\n",
    "\n",
    "Source\n",
    "- **KMA:** Korea Meteorological Administration (대한민국 기상청)"
   ]
  },
  {
   "cell_type": "markdown",
   "metadata": {},
   "source": [
    "# Load Library"
   ]
  },
  {
   "cell_type": "code",
   "execution_count": 1,
   "metadata": {
    "ExecuteTime": {
     "end_time": "2018-11-11T15:32:46.883998Z",
     "start_time": "2018-11-11T15:32:45.790926Z"
    }
   },
   "outputs": [],
   "source": [
    "from multiprocessing.dummy import Pool\n",
    "\n",
    "from scipy import interpolate\n",
    "\n",
    "from tqdm import tqdm_notebook\n",
    "\n",
    "import numpy as np\n",
    "import pandas as pd\n",
    "\n",
    "import matplotlib.pyplot as plt\n",
    "import seaborn as sns\n",
    "\n",
    "\n",
    "\n",
    "%matplotlib inline"
   ]
  },
  {
   "cell_type": "markdown",
   "metadata": {},
   "source": [
    "# Set plotting style"
   ]
  },
  {
   "cell_type": "code",
   "execution_count": 2,
   "metadata": {
    "ExecuteTime": {
     "end_time": "2018-11-11T15:32:46.891963Z",
     "start_time": "2018-11-11T15:32:46.886986Z"
    }
   },
   "outputs": [],
   "source": [
    "sns.set_style('whitegrid')"
   ]
  },
  {
   "cell_type": "markdown",
   "metadata": {},
   "source": [
    "# xml info"
   ]
  },
  {
   "cell_type": "markdown",
   "metadata": {},
   "source": [
    "| 항목명(영문 약자) | 항목명(한글)   |\n",
    "|-----------------|--------------|\n",
    "| stnid           | 지역번호      |\n",
    "| stnko           | 지역이름(한글) |\n",
    "| avgtamax        | 기온-최고-평균 |\n",
    "| avgtamin        | 기온-최저-평균 |\n",
    "| taavg           | 기온-평균     |"
   ]
  },
  {
   "cell_type": "markdown",
   "metadata": {},
   "source": [
    "# Data Loader"
   ]
  },
  {
   "cell_type": "markdown",
   "metadata": {},
   "source": [
    "## for single"
   ]
  },
  {
   "cell_type": "code",
   "execution_count": 3,
   "metadata": {
    "ExecuteTime": {
     "end_time": "2018-11-11T15:32:46.903941Z",
     "start_time": "2018-11-11T15:32:46.894954Z"
    }
   },
   "outputs": [],
   "source": [
    "def average_temperature_monthly(year, month, city='서울', echo=False):\n",
    "    \"\"\"Average temperature (monthly) from KMA\n",
    "    \n",
    "    KMA: Korea Meteorological Administration\n",
    "    \n",
    "    Args:\n",
    "        year  (int):\n",
    "        month (int):\n",
    "        city  (str): '서울' by default\n",
    "        \n",
    "    Returns:\n",
    "        average_temperature (float):\n",
    "    \"\"\"\n",
    "    import time\n",
    "    import urllib3\n",
    "    \n",
    "    import numpy as np\n",
    "    import requests\n",
    "    \n",
    "    from lxml import etree\n",
    "\n",
    "    \n",
    "    urllib3.disable_warnings()\n",
    "    \n",
    "    if echo is True:\n",
    "        print(year, month, city)\n",
    "    \n",
    "    url = 'https://data.kma.go.kr/OPEN_API/SYNM/{year}/{month:02d}/XML/month1.xml'.format(\n",
    "        year  = year,\n",
    "        month = month\n",
    "    )\n",
    "    \n",
    "    r = requests.get(url, verify=False)\n",
    "    \n",
    "    if '공사중' in r.content.decode('utf-8'):\n",
    "        average_temperature = np.nan\n",
    "    else:\n",
    "        root = etree.fromstring(r.content)\n",
    "\n",
    "        city_xml = [ child for child in root if child.xpath('stnko')[0].text == city]\n",
    "\n",
    "        average_temperature = float(city_xml[0].xpath('taavg')[0].text)\n",
    "\n",
    "    return average_temperature"
   ]
  },
  {
   "cell_type": "markdown",
   "metadata": {},
   "source": [
    "## for multi"
   ]
  },
  {
   "cell_type": "code",
   "execution_count": 4,
   "metadata": {
    "ExecuteTime": {
     "end_time": "2018-11-11T15:32:46.915913Z",
     "start_time": "2018-11-11T15:32:46.906924Z"
    }
   },
   "outputs": [],
   "source": [
    "def average_temperature_monthly_multi(year_month, city='서울', echo=False):\n",
    "    \"\"\"Average temperature (monthly) from KMA\n",
    "    \n",
    "    KMA: Korea Meteorological Administration\n",
    "    \n",
    "    Args:\n",
    "        year_month (tuple): (year, month)\n",
    "        city (str): '서울' by default\n",
    "        \n",
    "    Returns:\n",
    "        average_temperature (float):\n",
    "    \"\"\"\n",
    "    import time\n",
    "    import urllib3\n",
    "    \n",
    "    from urllib.parse import urljoin\n",
    "    \n",
    "    import numpy as np\n",
    "    import requests\n",
    "    \n",
    "    from lxml import etree\n",
    "\n",
    "    \n",
    "    urllib3.disable_warnings()\n",
    "   \n",
    "    year, month = year_month\n",
    "\n",
    "    if echo is True:\n",
    "        print(year, month, city)\n",
    "    \n",
    "    BASE_URL = 'https://data.kma.go.kr/OPEN_API/SYNM/'\n",
    "    \n",
    "    sub_url = '{year}/{month:02d}/XML/month1.xml'.format(\n",
    "        year  = year,\n",
    "        month = month\n",
    "    )\n",
    "    \n",
    "    url = urljoin(BASE_URL, sub_url)\n",
    "    \n",
    "    r = requests.get(url, verify=False)\n",
    "    \n",
    "    if '공사중' in r.content.decode('utf-8'):\n",
    "        average_temperature = np.nan\n",
    "    else:\n",
    "        root = etree.fromstring(r.content)\n",
    "\n",
    "        city_xml = [ child for child in root if child.xpath('stnko')[0].text == city]\n",
    "\n",
    "        average_temperature = float(city_xml[0].xpath('taavg')[0].text)\n",
    "\n",
    "    return average_temperature"
   ]
  },
  {
   "cell_type": "markdown",
   "metadata": {},
   "source": [
    "# Make year-month pairs"
   ]
  },
  {
   "cell_type": "code",
   "execution_count": 5,
   "metadata": {
    "ExecuteTime": {
     "end_time": "2018-11-11T15:32:46.929863Z",
     "start_time": "2018-11-11T15:32:46.918891Z"
    }
   },
   "outputs": [],
   "source": [
    "def _year_month_pairs(year, number_of_months):\n",
    "    year_month_pairs = zip(\n",
    "        [year] * number_of_months,\n",
    "        range(1, number_of_months + 1),\n",
    "    )\n",
    "\n",
    "    return year_month_pairs"
   ]
  },
  {
   "cell_type": "markdown",
   "metadata": {},
   "source": [
    "Today is 2018-11-12. September & October aren't ready yet."
   ]
  },
  {
   "cell_type": "code",
   "execution_count": 6,
   "metadata": {
    "ExecuteTime": {
     "end_time": "2018-11-11T15:32:46.940841Z",
     "start_time": "2018-11-11T15:32:46.933867Z"
    }
   },
   "outputs": [],
   "source": [
    "year_month_pairs_2017 = _year_month_pairs(2017, 12)\n",
    "year_month_pairs_2018 = _year_month_pairs(2018, 8)\n",
    "\n",
    "year_month_pairs = [\n",
    "    *year_month_pairs_2017, \n",
    "    *year_month_pairs_2018\n",
    "]"
   ]
  },
  {
   "cell_type": "markdown",
   "metadata": {},
   "source": [
    "# Load monthly temperature data"
   ]
  },
  {
   "cell_type": "markdown",
   "metadata": {},
   "source": [
    "## single"
   ]
  },
  {
   "cell_type": "code",
   "execution_count": 7,
   "metadata": {
    "ExecuteTime": {
     "end_time": "2018-11-11T15:32:48.631310Z",
     "start_time": "2018-11-11T15:32:46.942828Z"
    },
    "scrolled": true
   },
   "outputs": [
    {
     "data": {
      "application/vnd.jupyter.widget-view+json": {
       "model_id": "fe5d3fcd2e4d440ab9c47a624db68b2c",
       "version_major": 2,
       "version_minor": 0
      },
      "text/plain": [
       "HBox(children=(IntProgress(value=0, max=20), HTML(value='')))"
      ]
     },
     "metadata": {},
     "output_type": "display_data"
    },
    {
     "name": "stdout",
     "output_type": "stream",
     "text": [
      "\n"
     ]
    }
   ],
   "source": [
    "average_temperature_list = [ \n",
    "    average_temperature_monthly(year, month) \n",
    "    for year, month in tqdm_notebook(year_month_pairs) \n",
    "]"
   ]
  },
  {
   "cell_type": "markdown",
   "metadata": {},
   "source": [
    "## multi"
   ]
  },
  {
   "cell_type": "code",
   "execution_count": 8,
   "metadata": {
    "ExecuteTime": {
     "end_time": "2018-11-11T15:32:49.144978Z",
     "start_time": "2018-11-11T15:32:48.634303Z"
    }
   },
   "outputs": [],
   "source": [
    "with Pool(processes=4) as pool:\n",
    "    average_temperature_list = pool.map(\n",
    "        average_temperature_monthly_multi, \n",
    "        year_month_pairs\n",
    "    )"
   ]
  },
  {
   "cell_type": "markdown",
   "metadata": {},
   "source": [
    "# Make temperature value series"
   ]
  },
  {
   "cell_type": "code",
   "execution_count": 9,
   "metadata": {
    "ExecuteTime": {
     "end_time": "2018-11-11T15:32:49.153913Z",
     "start_time": "2018-11-11T15:32:49.146960Z"
    }
   },
   "outputs": [],
   "source": [
    "average_temperature_series = pd.Series(\n",
    "    average_temperature_list, \n",
    "    index = pd.date_range(\n",
    "        '20170101', \n",
    "        periods=len(average_temperature_list), \n",
    "        freq='MS'\n",
    "    )\n",
    ")"
   ]
  },
  {
   "cell_type": "markdown",
   "metadata": {},
   "source": [
    "# Load my electricity usage data"
   ]
  },
  {
   "cell_type": "code",
   "execution_count": 10,
   "metadata": {
    "ExecuteTime": {
     "end_time": "2018-11-11T15:32:49.192811Z",
     "start_time": "2018-11-11T15:32:49.156905Z"
    }
   },
   "outputs": [],
   "source": [
    "df = pd.read_csv('http://danielykim.me/data/my-electricity-usage.csv')\n",
    "\n",
    "df['Month'] = pd.to_datetime(df['Month'])\n",
    "\n",
    "df = df.set_index('Month')"
   ]
  },
  {
   "cell_type": "markdown",
   "metadata": {},
   "source": [
    "# Join them"
   ]
  },
  {
   "cell_type": "code",
   "execution_count": 11,
   "metadata": {
    "ExecuteTime": {
     "end_time": "2018-11-11T15:32:49.203795Z",
     "start_time": "2018-11-11T15:32:49.194802Z"
    }
   },
   "outputs": [],
   "source": [
    "df['AverageTemperature'] = average_temperature_series"
   ]
  },
  {
   "cell_type": "markdown",
   "metadata": {},
   "source": [
    "# Drop missing values"
   ]
  },
  {
   "cell_type": "code",
   "execution_count": 12,
   "metadata": {
    "ExecuteTime": {
     "end_time": "2018-11-11T15:32:49.215779Z",
     "start_time": "2018-11-11T15:32:49.206772Z"
    }
   },
   "outputs": [],
   "source": [
    "df = df.dropna()"
   ]
  },
  {
   "cell_type": "markdown",
   "metadata": {},
   "source": [
    "# Check header"
   ]
  },
  {
   "cell_type": "code",
   "execution_count": 13,
   "metadata": {
    "ExecuteTime": {
     "end_time": "2018-11-11T15:32:49.237725Z",
     "start_time": "2018-11-11T15:32:49.217742Z"
    }
   },
   "outputs": [
    {
     "data": {
      "text/html": [
       "<div>\n",
       "<style scoped>\n",
       "    .dataframe tbody tr th:only-of-type {\n",
       "        vertical-align: middle;\n",
       "    }\n",
       "\n",
       "    .dataframe tbody tr th {\n",
       "        vertical-align: top;\n",
       "    }\n",
       "\n",
       "    .dataframe thead th {\n",
       "        text-align: right;\n",
       "    }\n",
       "</style>\n",
       "<table border=\"1\" class=\"dataframe\">\n",
       "  <thead>\n",
       "    <tr style=\"text-align: right;\">\n",
       "      <th></th>\n",
       "      <th>Usage</th>\n",
       "      <th>SameAreaAverageUsage</th>\n",
       "      <th>AverageTemperature</th>\n",
       "    </tr>\n",
       "    <tr>\n",
       "      <th>Month</th>\n",
       "      <th></th>\n",
       "      <th></th>\n",
       "      <th></th>\n",
       "    </tr>\n",
       "  </thead>\n",
       "  <tbody>\n",
       "    <tr>\n",
       "      <th>2017-01-01</th>\n",
       "      <td>81</td>\n",
       "      <td>131.0</td>\n",
       "      <td>-1.8</td>\n",
       "    </tr>\n",
       "    <tr>\n",
       "      <th>2017-02-01</th>\n",
       "      <td>69</td>\n",
       "      <td>118.0</td>\n",
       "      <td>-0.2</td>\n",
       "    </tr>\n",
       "    <tr>\n",
       "      <th>2017-03-01</th>\n",
       "      <td>64</td>\n",
       "      <td>106.0</td>\n",
       "      <td>6.3</td>\n",
       "    </tr>\n",
       "    <tr>\n",
       "      <th>2017-04-01</th>\n",
       "      <td>62</td>\n",
       "      <td>111.0</td>\n",
       "      <td>13.9</td>\n",
       "    </tr>\n",
       "    <tr>\n",
       "      <th>2017-05-01</th>\n",
       "      <td>58</td>\n",
       "      <td>114.0</td>\n",
       "      <td>19.5</td>\n",
       "    </tr>\n",
       "  </tbody>\n",
       "</table>\n",
       "</div>"
      ],
      "text/plain": [
       "            Usage  SameAreaAverageUsage  AverageTemperature\n",
       "Month                                                      \n",
       "2017-01-01     81                 131.0                -1.8\n",
       "2017-02-01     69                 118.0                -0.2\n",
       "2017-03-01     64                 106.0                 6.3\n",
       "2017-04-01     62                 111.0                13.9\n",
       "2017-05-01     58                 114.0                19.5"
      ]
     },
     "execution_count": 13,
     "metadata": {},
     "output_type": "execute_result"
    }
   ],
   "source": [
    "df.head()"
   ]
  },
  {
   "cell_type": "markdown",
   "metadata": {},
   "source": [
    "# Correlation between columns"
   ]
  },
  {
   "cell_type": "code",
   "execution_count": 14,
   "metadata": {
    "ExecuteTime": {
     "end_time": "2018-11-11T15:32:49.252667Z",
     "start_time": "2018-11-11T15:32:49.240683Z"
    }
   },
   "outputs": [
    {
     "data": {
      "text/html": [
       "<div>\n",
       "<style scoped>\n",
       "    .dataframe tbody tr th:only-of-type {\n",
       "        vertical-align: middle;\n",
       "    }\n",
       "\n",
       "    .dataframe tbody tr th {\n",
       "        vertical-align: top;\n",
       "    }\n",
       "\n",
       "    .dataframe thead th {\n",
       "        text-align: right;\n",
       "    }\n",
       "</style>\n",
       "<table border=\"1\" class=\"dataframe\">\n",
       "  <thead>\n",
       "    <tr style=\"text-align: right;\">\n",
       "      <th></th>\n",
       "      <th>Usage</th>\n",
       "      <th>SameAreaAverageUsage</th>\n",
       "      <th>AverageTemperature</th>\n",
       "    </tr>\n",
       "  </thead>\n",
       "  <tbody>\n",
       "    <tr>\n",
       "      <th>Usage</th>\n",
       "      <td>1.000000</td>\n",
       "      <td>0.960360</td>\n",
       "      <td>0.579466</td>\n",
       "    </tr>\n",
       "    <tr>\n",
       "      <th>SameAreaAverageUsage</th>\n",
       "      <td>0.960360</td>\n",
       "      <td>1.000000</td>\n",
       "      <td>0.501963</td>\n",
       "    </tr>\n",
       "    <tr>\n",
       "      <th>AverageTemperature</th>\n",
       "      <td>0.579466</td>\n",
       "      <td>0.501963</td>\n",
       "      <td>1.000000</td>\n",
       "    </tr>\n",
       "  </tbody>\n",
       "</table>\n",
       "</div>"
      ],
      "text/plain": [
       "                         Usage  SameAreaAverageUsage  AverageTemperature\n",
       "Usage                 1.000000              0.960360            0.579466\n",
       "SameAreaAverageUsage  0.960360              1.000000            0.501963\n",
       "AverageTemperature    0.579466              0.501963            1.000000"
      ]
     },
     "execution_count": 14,
     "metadata": {},
     "output_type": "execute_result"
    }
   ],
   "source": [
    "df.corr()"
   ]
  },
  {
   "cell_type": "markdown",
   "metadata": {},
   "source": [
    "NOTE\n",
    "- In summer, $W \\sim T$\n",
    "- In winter, $W \\sim \\frac{1}{T}$\n",
    "\n",
    "where\n",
    "- $T=\\text{temperature}$\n",
    "- $W=\\text{electricity usage}$"
   ]
  },
  {
   "cell_type": "markdown",
   "metadata": {},
   "source": [
    "# Plotting"
   ]
  },
  {
   "cell_type": "markdown",
   "metadata": {},
   "source": [
    "## Datetime interpolation helper"
   ]
  },
  {
   "cell_type": "code",
   "execution_count": 15,
   "metadata": {
    "ExecuteTime": {
     "end_time": "2018-11-11T15:32:49.264649Z",
     "start_time": "2018-11-11T15:32:49.255647Z"
    }
   },
   "outputs": [],
   "source": [
    "def toTimestamp(d):\n",
    "    import calendar\n",
    "    \n",
    "    return calendar.timegm(d.timetuple())"
   ]
  },
  {
   "cell_type": "markdown",
   "metadata": {},
   "source": [
    "## Datetime axis interpolation"
   ]
  },
  {
   "cell_type": "code",
   "execution_count": 16,
   "metadata": {
    "ExecuteTime": {
     "end_time": "2018-11-11T15:32:49.279609Z",
     "start_time": "2018-11-11T15:32:49.266613Z"
    }
   },
   "outputs": [],
   "source": [
    "usage_interpolator = interpolate.Rbf(\n",
    "    [toTimestamp(i) for i in df.index], \n",
    "    df.Usage\n",
    ")\n",
    "\n",
    "same_area_usage_interpolator = interpolate.Rbf(\n",
    "    [toTimestamp(i) for i in df.index], \n",
    "    df.SameAreaAverageUsage\n",
    ")"
   ]
  },
  {
   "cell_type": "markdown",
   "metadata": {},
   "source": [
    "## Prepare data"
   ]
  },
  {
   "cell_type": "code",
   "execution_count": 17,
   "metadata": {
    "ExecuteTime": {
     "end_time": "2018-11-11T15:32:49.292575Z",
     "start_time": "2018-11-11T15:32:49.282592Z"
    }
   },
   "outputs": [],
   "source": [
    "dates = pd.date_range('20170101', '20180801')\n",
    "\n",
    "timestamps = [ toTimestamp(i) for i in dates]\n",
    "\n",
    "usage_values = usage_interpolator(timestamps)\n",
    "\n",
    "area_usage_values = np.array(same_area_usage_interpolator(timestamps))\n",
    "\n",
    "area_usage_deviation = area_usage_values * 0.66"
   ]
  },
  {
   "cell_type": "markdown",
   "metadata": {},
   "source": [
    "## Draw figure"
   ]
  },
  {
   "cell_type": "code",
   "execution_count": 19,
   "metadata": {
    "ExecuteTime": {
     "end_time": "2018-11-11T15:33:17.634758Z",
     "start_time": "2018-11-11T15:33:17.348529Z"
    }
   },
   "outputs": [
    {
     "data": {
      "image/png": "[encoded data removed]",
      "text/plain": [
       "<Figure size 1296x432 with 1 Axes>"
      ]
     },
     "metadata": {},
     "output_type": "display_data"
    }
   ],
   "source": [
    "plt.figure(figsize=(18,6))\n",
    "\n",
    "# Labels\n",
    "plt.xlabel('Month', fontsize=23)\n",
    "plt.ylabel('KWh', fontsize=23)\n",
    "\n",
    "# Lines\n",
    "plt.plot(dates, area_usage_values, label='Same area (average)', linewidth=2, linestyle='--', color='gray')\n",
    "plt.plot(dates, usage_values, label='My home', linewidth=2, color='black')\n",
    "\n",
    "# Filled area\n",
    "plt.fill_between(\n",
    "    dates, \n",
    "    area_usage_values + area_usage_deviation, \n",
    "    area_usage_values - area_usage_deviation, \n",
    "    alpha=0.33,\n",
    "    color='orange'\n",
    ")\n",
    "\n",
    "plt.legend(loc='upper left', fontsize=20)\n",
    "\n",
    "plt.tick_params(labelsize=15)\n",
    "\n",
    "# Adjust\n",
    "plt.tight_layout()"
   ]
  },
  {
   "cell_type": "code",
   "execution_count": null,
   "metadata": {},
   "outputs": [],
   "source": []
  }
 ],
 "metadata": {
  "kernelspec": {
   "display_name": "Python 3",
   "language": "python",
   "name": "python3"
  },
  "language_info": {
   "codemirror_mode": {
    "name": "ipython",
    "version": 3
   },
   "file_extension": ".py",
   "mimetype": "text/x-python",
   "name": "python",
   "nbconvert_exporter": "python",
   "pygments_lexer": "ipython3",
   "version": "3.7.0"
  },
  "toc": {
   "base_numbering": 1,
   "nav_menu": {},
   "number_sections": true,
   "sideBar": true,
   "skip_h1_title": false,
   "title_cell": "Table of Contents",
   "title_sidebar": "Contents",
   "toc_cell": false,
   "toc_position": {},
   "toc_section_display": true,
   "toc_window_display": true
  }
 },
 "nbformat": 4,
 "nbformat_minor": 2
}
